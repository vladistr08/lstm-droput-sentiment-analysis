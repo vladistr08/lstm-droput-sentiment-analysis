{
  "nbformat": 4,
  "nbformat_minor": 0,
  "metadata": {
    "colab": {
      "provenance": [],
      "gpuType": "T4"
    },
    "kernelspec": {
      "name": "python3",
      "display_name": "Python 3"
    },
    "language_info": {
      "name": "python"
    },
    "accelerator": "GPU"
  },
  "cells": [
    {
      "cell_type": "markdown",
      "source": [
        "This is a LSTM with dropout model used for sentiment analysis over text on 2 classes. The code is adapdable to more classes"
      ],
      "metadata": {
        "id": "MV6cpDa_lbaF"
      }
    },
    {
      "cell_type": "markdown",
      "source": [
        "Load data"
      ],
      "metadata": {
        "id": "9qttdCPskreV"
      }
    },
    {
      "cell_type": "code",
      "execution_count": 121,
      "metadata": {
        "id": "cDm0_ZP6jWyu",
        "colab": {
          "base_uri": "https://localhost:8080/"
        },
        "outputId": "7e9829e4-7a1b-4b93-e1c6-c66fc7ecacbe"
      },
      "outputs": [
        {
          "output_type": "stream",
          "name": "stdout",
          "text": [
            "cuda\n"
          ]
        }
      ],
      "source": [
        "import pandas as pd\n",
        "import torch\n",
        "\n",
        "# Load the dataset\n",
        "file_path = '/content/drive/MyDrive/Colab Notebooks/IMDB Dataset.csv'\n",
        "df = pd.read_csv(file_path)\n",
        "\n",
        "# Display the first few rows of the dataframe\n",
        "df.head()\n",
        "\n",
        "device = torch.device('cuda' if torch.cuda.is_available() else 'cpu')\n",
        "print(device)"
      ]
    },
    {
      "cell_type": "markdown",
      "source": [
        "we need to clean the data of html tags and also map the sentiments as numbers 1 and 0"
      ],
      "metadata": {
        "id": "1fQ8__9d1_kT"
      }
    },
    {
      "cell_type": "code",
      "source": [
        "import re\n",
        "\n",
        "# Function to clean the text\n",
        "def clean_text(text):\n",
        "    # Removing HTML tags\n",
        "    text = re.sub(r'<.*?>', '', text)\n",
        "    # Removing any characters that are not letters or spaces\n",
        "    text = re.sub(r'[^a-zA-Z\\s]', '', text, re.I|re.A)\n",
        "    # Lowercasing\n",
        "    text = text.lower()\n",
        "    # Removing extra spaces\n",
        "    text = text.strip()\n",
        "    return text\n",
        "\n",
        "# Clean the reviews\n",
        "df['cleaned_review'] = df['review'].apply(clean_text)\n",
        "\n",
        "# Label Encoding (1 for positive, 0 for negative)\n",
        "df['label'] = df['sentiment'].map({'positive': 1, 'negative': 0})\n",
        "\n",
        "# Display the processed dataframe\n",
        "df[['cleaned_review', 'label']].head()"
      ],
      "metadata": {
        "colab": {
          "base_uri": "https://localhost:8080/",
          "height": 206
        },
        "id": "PtagOAsvmYf_",
        "outputId": "e10fb4db-2d4f-4013-8ef1-2ba5a880c2cf"
      },
      "execution_count": 122,
      "outputs": [
        {
          "output_type": "execute_result",
          "data": {
            "text/plain": [
              "                                      cleaned_review  label\n",
              "0  one of the other reviewers has mentioned that ...      1\n",
              "1  a wonderful little production the filming tech...      1\n",
              "2  i thought this was a wonderful way to spend ti...      1\n",
              "3  basically theres a family where a little boy j...      0\n",
              "4  petter matteis love in the time of money is a ...      1"
            ],
            "text/html": [
              "\n",
              "  <div id=\"df-cd32867c-e809-48c0-a4ee-7dbe5697b38f\" class=\"colab-df-container\">\n",
              "    <div>\n",
              "<style scoped>\n",
              "    .dataframe tbody tr th:only-of-type {\n",
              "        vertical-align: middle;\n",
              "    }\n",
              "\n",
              "    .dataframe tbody tr th {\n",
              "        vertical-align: top;\n",
              "    }\n",
              "\n",
              "    .dataframe thead th {\n",
              "        text-align: right;\n",
              "    }\n",
              "</style>\n",
              "<table border=\"1\" class=\"dataframe\">\n",
              "  <thead>\n",
              "    <tr style=\"text-align: right;\">\n",
              "      <th></th>\n",
              "      <th>cleaned_review</th>\n",
              "      <th>label</th>\n",
              "    </tr>\n",
              "  </thead>\n",
              "  <tbody>\n",
              "    <tr>\n",
              "      <th>0</th>\n",
              "      <td>one of the other reviewers has mentioned that ...</td>\n",
              "      <td>1</td>\n",
              "    </tr>\n",
              "    <tr>\n",
              "      <th>1</th>\n",
              "      <td>a wonderful little production the filming tech...</td>\n",
              "      <td>1</td>\n",
              "    </tr>\n",
              "    <tr>\n",
              "      <th>2</th>\n",
              "      <td>i thought this was a wonderful way to spend ti...</td>\n",
              "      <td>1</td>\n",
              "    </tr>\n",
              "    <tr>\n",
              "      <th>3</th>\n",
              "      <td>basically theres a family where a little boy j...</td>\n",
              "      <td>0</td>\n",
              "    </tr>\n",
              "    <tr>\n",
              "      <th>4</th>\n",
              "      <td>petter matteis love in the time of money is a ...</td>\n",
              "      <td>1</td>\n",
              "    </tr>\n",
              "  </tbody>\n",
              "</table>\n",
              "</div>\n",
              "    <div class=\"colab-df-buttons\">\n",
              "\n",
              "  <div class=\"colab-df-container\">\n",
              "    <button class=\"colab-df-convert\" onclick=\"convertToInteractive('df-cd32867c-e809-48c0-a4ee-7dbe5697b38f')\"\n",
              "            title=\"Convert this dataframe to an interactive table.\"\n",
              "            style=\"display:none;\">\n",
              "\n",
              "  <svg xmlns=\"http://www.w3.org/2000/svg\" height=\"24px\" viewBox=\"0 -960 960 960\">\n",
              "    <path d=\"M120-120v-720h720v720H120Zm60-500h600v-160H180v160Zm220 220h160v-160H400v160Zm0 220h160v-160H400v160ZM180-400h160v-160H180v160Zm440 0h160v-160H620v160ZM180-180h160v-160H180v160Zm440 0h160v-160H620v160Z\"/>\n",
              "  </svg>\n",
              "    </button>\n",
              "\n",
              "  <style>\n",
              "    .colab-df-container {\n",
              "      display:flex;\n",
              "      gap: 12px;\n",
              "    }\n",
              "\n",
              "    .colab-df-convert {\n",
              "      background-color: #E8F0FE;\n",
              "      border: none;\n",
              "      border-radius: 50%;\n",
              "      cursor: pointer;\n",
              "      display: none;\n",
              "      fill: #1967D2;\n",
              "      height: 32px;\n",
              "      padding: 0 0 0 0;\n",
              "      width: 32px;\n",
              "    }\n",
              "\n",
              "    .colab-df-convert:hover {\n",
              "      background-color: #E2EBFA;\n",
              "      box-shadow: 0px 1px 2px rgba(60, 64, 67, 0.3), 0px 1px 3px 1px rgba(60, 64, 67, 0.15);\n",
              "      fill: #174EA6;\n",
              "    }\n",
              "\n",
              "    .colab-df-buttons div {\n",
              "      margin-bottom: 4px;\n",
              "    }\n",
              "\n",
              "    [theme=dark] .colab-df-convert {\n",
              "      background-color: #3B4455;\n",
              "      fill: #D2E3FC;\n",
              "    }\n",
              "\n",
              "    [theme=dark] .colab-df-convert:hover {\n",
              "      background-color: #434B5C;\n",
              "      box-shadow: 0px 1px 3px 1px rgba(0, 0, 0, 0.15);\n",
              "      filter: drop-shadow(0px 1px 2px rgba(0, 0, 0, 0.3));\n",
              "      fill: #FFFFFF;\n",
              "    }\n",
              "  </style>\n",
              "\n",
              "    <script>\n",
              "      const buttonEl =\n",
              "        document.querySelector('#df-cd32867c-e809-48c0-a4ee-7dbe5697b38f button.colab-df-convert');\n",
              "      buttonEl.style.display =\n",
              "        google.colab.kernel.accessAllowed ? 'block' : 'none';\n",
              "\n",
              "      async function convertToInteractive(key) {\n",
              "        const element = document.querySelector('#df-cd32867c-e809-48c0-a4ee-7dbe5697b38f');\n",
              "        const dataTable =\n",
              "          await google.colab.kernel.invokeFunction('convertToInteractive',\n",
              "                                                    [key], {});\n",
              "        if (!dataTable) return;\n",
              "\n",
              "        const docLinkHtml = 'Like what you see? Visit the ' +\n",
              "          '<a target=\"_blank\" href=https://colab.research.google.com/notebooks/data_table.ipynb>data table notebook</a>'\n",
              "          + ' to learn more about interactive tables.';\n",
              "        element.innerHTML = '';\n",
              "        dataTable['output_type'] = 'display_data';\n",
              "        await google.colab.output.renderOutput(dataTable, element);\n",
              "        const docLink = document.createElement('div');\n",
              "        docLink.innerHTML = docLinkHtml;\n",
              "        element.appendChild(docLink);\n",
              "      }\n",
              "    </script>\n",
              "  </div>\n",
              "\n",
              "\n",
              "<div id=\"df-3617e0f1-0689-4a37-9385-6c67673659e7\">\n",
              "  <button class=\"colab-df-quickchart\" onclick=\"quickchart('df-3617e0f1-0689-4a37-9385-6c67673659e7')\"\n",
              "            title=\"Suggest charts\"\n",
              "            style=\"display:none;\">\n",
              "\n",
              "<svg xmlns=\"http://www.w3.org/2000/svg\" height=\"24px\"viewBox=\"0 0 24 24\"\n",
              "     width=\"24px\">\n",
              "    <g>\n",
              "        <path d=\"M19 3H5c-1.1 0-2 .9-2 2v14c0 1.1.9 2 2 2h14c1.1 0 2-.9 2-2V5c0-1.1-.9-2-2-2zM9 17H7v-7h2v7zm4 0h-2V7h2v10zm4 0h-2v-4h2v4z\"/>\n",
              "    </g>\n",
              "</svg>\n",
              "  </button>\n",
              "\n",
              "<style>\n",
              "  .colab-df-quickchart {\n",
              "      --bg-color: #E8F0FE;\n",
              "      --fill-color: #1967D2;\n",
              "      --hover-bg-color: #E2EBFA;\n",
              "      --hover-fill-color: #174EA6;\n",
              "      --disabled-fill-color: #AAA;\n",
              "      --disabled-bg-color: #DDD;\n",
              "  }\n",
              "\n",
              "  [theme=dark] .colab-df-quickchart {\n",
              "      --bg-color: #3B4455;\n",
              "      --fill-color: #D2E3FC;\n",
              "      --hover-bg-color: #434B5C;\n",
              "      --hover-fill-color: #FFFFFF;\n",
              "      --disabled-bg-color: #3B4455;\n",
              "      --disabled-fill-color: #666;\n",
              "  }\n",
              "\n",
              "  .colab-df-quickchart {\n",
              "    background-color: var(--bg-color);\n",
              "    border: none;\n",
              "    border-radius: 50%;\n",
              "    cursor: pointer;\n",
              "    display: none;\n",
              "    fill: var(--fill-color);\n",
              "    height: 32px;\n",
              "    padding: 0;\n",
              "    width: 32px;\n",
              "  }\n",
              "\n",
              "  .colab-df-quickchart:hover {\n",
              "    background-color: var(--hover-bg-color);\n",
              "    box-shadow: 0 1px 2px rgba(60, 64, 67, 0.3), 0 1px 3px 1px rgba(60, 64, 67, 0.15);\n",
              "    fill: var(--button-hover-fill-color);\n",
              "  }\n",
              "\n",
              "  .colab-df-quickchart-complete:disabled,\n",
              "  .colab-df-quickchart-complete:disabled:hover {\n",
              "    background-color: var(--disabled-bg-color);\n",
              "    fill: var(--disabled-fill-color);\n",
              "    box-shadow: none;\n",
              "  }\n",
              "\n",
              "  .colab-df-spinner {\n",
              "    border: 2px solid var(--fill-color);\n",
              "    border-color: transparent;\n",
              "    border-bottom-color: var(--fill-color);\n",
              "    animation:\n",
              "      spin 1s steps(1) infinite;\n",
              "  }\n",
              "\n",
              "  @keyframes spin {\n",
              "    0% {\n",
              "      border-color: transparent;\n",
              "      border-bottom-color: var(--fill-color);\n",
              "      border-left-color: var(--fill-color);\n",
              "    }\n",
              "    20% {\n",
              "      border-color: transparent;\n",
              "      border-left-color: var(--fill-color);\n",
              "      border-top-color: var(--fill-color);\n",
              "    }\n",
              "    30% {\n",
              "      border-color: transparent;\n",
              "      border-left-color: var(--fill-color);\n",
              "      border-top-color: var(--fill-color);\n",
              "      border-right-color: var(--fill-color);\n",
              "    }\n",
              "    40% {\n",
              "      border-color: transparent;\n",
              "      border-right-color: var(--fill-color);\n",
              "      border-top-color: var(--fill-color);\n",
              "    }\n",
              "    60% {\n",
              "      border-color: transparent;\n",
              "      border-right-color: var(--fill-color);\n",
              "    }\n",
              "    80% {\n",
              "      border-color: transparent;\n",
              "      border-right-color: var(--fill-color);\n",
              "      border-bottom-color: var(--fill-color);\n",
              "    }\n",
              "    90% {\n",
              "      border-color: transparent;\n",
              "      border-bottom-color: var(--fill-color);\n",
              "    }\n",
              "  }\n",
              "</style>\n",
              "\n",
              "  <script>\n",
              "    async function quickchart(key) {\n",
              "      const quickchartButtonEl =\n",
              "        document.querySelector('#' + key + ' button');\n",
              "      quickchartButtonEl.disabled = true;  // To prevent multiple clicks.\n",
              "      quickchartButtonEl.classList.add('colab-df-spinner');\n",
              "      try {\n",
              "        const charts = await google.colab.kernel.invokeFunction(\n",
              "            'suggestCharts', [key], {});\n",
              "      } catch (error) {\n",
              "        console.error('Error during call to suggestCharts:', error);\n",
              "      }\n",
              "      quickchartButtonEl.classList.remove('colab-df-spinner');\n",
              "      quickchartButtonEl.classList.add('colab-df-quickchart-complete');\n",
              "    }\n",
              "    (() => {\n",
              "      let quickchartButtonEl =\n",
              "        document.querySelector('#df-3617e0f1-0689-4a37-9385-6c67673659e7 button');\n",
              "      quickchartButtonEl.style.display =\n",
              "        google.colab.kernel.accessAllowed ? 'block' : 'none';\n",
              "    })();\n",
              "  </script>\n",
              "</div>\n",
              "    </div>\n",
              "  </div>\n"
            ]
          },
          "metadata": {},
          "execution_count": 122
        }
      ]
    },
    {
      "cell_type": "markdown",
      "source": [
        "if the cleaned_review does not exist in the df map, create it and apply the clean_text to the original review"
      ],
      "metadata": {
        "id": "BNsRWkx72HcG"
      }
    },
    {
      "cell_type": "code",
      "source": [
        "# Check existing DataFrame columns\n",
        "print(df.columns)\n",
        "\n",
        "# If 'cleaned_review' column is missing, recreate it\n",
        "if 'cleaned_review' not in df.columns:\n",
        "    df['cleaned_review'] = df['review'].apply(clean_text)\n",
        "    print(\"'cleaned_review' column created.\")"
      ],
      "metadata": {
        "colab": {
          "base_uri": "https://localhost:8080/"
        },
        "id": "1vFzqfZpmMHp",
        "outputId": "f5cf7df3-3ac2-4d21-a2ba-7e1005d08c5d"
      },
      "execution_count": 123,
      "outputs": [
        {
          "output_type": "stream",
          "name": "stdout",
          "text": [
            "Index(['review', 'sentiment', 'cleaned_review', 'label'], dtype='object')\n"
          ]
        }
      ]
    },
    {
      "cell_type": "markdown",
      "source": [
        "now we create out vocabularry, a map with the key as a word and the value as an index, the rnn will only understand numbers"
      ],
      "metadata": {
        "id": "_0eiBG5f2PbC"
      }
    },
    {
      "cell_type": "code",
      "source": [
        "from nltk.tokenize import word_tokenize\n",
        "from nltk.corpus import stopwords\n",
        "import nltk\n",
        "from collections import Counter\n",
        "\n",
        "# Download necessary NLTK data\n",
        "nltk.download('punkt')\n",
        "nltk.download('stopwords')\n",
        "\n",
        "# Tokenization\n",
        "df['tokens'] = df['cleaned_review'].apply(word_tokenize)\n",
        "\n",
        "# Removing stopwords\n",
        "stop_words = set(stopwords.words('english'))\n",
        "df['tokens'] = df['tokens'].apply(lambda x: [word for word in x if word not in stop_words])\n",
        "\n",
        "# Building a Vocabulary\n",
        "all_words = [word for tokens in df['tokens'] for word in tokens]\n",
        "vocabulary = Counter(all_words)\n",
        "\n",
        "# Displaying the first few rows of the dataframe with tokens and vocabulary size\n",
        "df[['cleaned_review', 'tokens']].head(), len(vocabulary)"
      ],
      "metadata": {
        "colab": {
          "base_uri": "https://localhost:8080/"
        },
        "id": "KEdESrFwk3Xl",
        "outputId": "ff057b3d-c197-48f4-c3b1-c2aca913916e"
      },
      "execution_count": 124,
      "outputs": [
        {
          "output_type": "stream",
          "name": "stderr",
          "text": [
            "[nltk_data] Downloading package punkt to /root/nltk_data...\n",
            "[nltk_data]   Package punkt is already up-to-date!\n",
            "[nltk_data] Downloading package stopwords to /root/nltk_data...\n",
            "[nltk_data]   Package stopwords is already up-to-date!\n"
          ]
        },
        {
          "output_type": "execute_result",
          "data": {
            "text/plain": [
              "(                                      cleaned_review  \\\n",
              " 0  one of the other reviewers has mentioned that ...   \n",
              " 1  a wonderful little production the filming tech...   \n",
              " 2  i thought this was a wonderful way to spend ti...   \n",
              " 3  basically theres a family where a little boy j...   \n",
              " 4  petter matteis love in the time of money is a ...   \n",
              " \n",
              "                                               tokens  \n",
              " 0  [one, reviewers, mentioned, watching, oz, epis...  \n",
              " 1  [wonderful, little, production, filming, techn...  \n",
              " 2  [thought, wonderful, way, spend, time, hot, su...  \n",
              " 3  [basically, theres, family, little, boy, jake,...  \n",
              " 4  [petter, matteis, love, time, money, visually,...  ,\n",
              " 214623)"
            ]
          },
          "metadata": {},
          "execution_count": 124
        }
      ]
    },
    {
      "cell_type": "markdown",
      "source": [
        "Mapping Tokens to Indices"
      ],
      "metadata": {
        "id": "M6NDzOlj13zo"
      }
    },
    {
      "cell_type": "code",
      "source": [
        "word_to_index = {word: i + 1 for i, word in enumerate(vocabulary)}\n",
        "\n",
        "df['indexed_tokens'] = df['tokens'].apply(lambda x: [word_to_index[word] for word in x if word in word_to_index])\n",
        "print(df['indexed_tokens'])"
      ],
      "metadata": {
        "colab": {
          "base_uri": "https://localhost:8080/"
        },
        "id": "BTVLFvgU0_Cn",
        "outputId": "27a67ca7-8afa-450a-fe64-ff8c24047279"
      },
      "execution_count": 125,
      "outputs": [
        {
          "output_type": "stream",
          "name": "stdout",
          "text": [
            "0        [1, 2, 3, 4, 5, 6, 7, 8, 9, 10, 11, 12, 13, 14...\n",
            "1        [143, 144, 145, 146, 147, 148, 149, 150, 151, ...\n",
            "2        [213, 143, 214, 215, 216, 217, 218, 219, 220, ...\n",
            "3        [282, 283, 284, 144, 285, 286, 287, 283, 288, ...\n",
            "4        [327, 328, 329, 216, 330, 331, 332, 304, 333, ...\n",
            "                               ...                        \n",
            "49995    [213, 293, 9, 393, 1306, 928, 8075, 539, 13, 2...\n",
            "49996    [529, 225, 529, 227, 529, 392, 6217, 3284, 798...\n",
            "49997    [12014, 17608, 73710, 14519, 11663, 22688, 176...\n",
            "49998    [688, 302, 10778, 367, 4565, 142, 7613, 1, 173...\n",
            "49999    [1, 9209, 674, 5151, 651, 58, 3364, 3088, 2157...\n",
            "Name: indexed_tokens, Length: 50000, dtype: object\n"
          ]
        }
      ]
    },
    {
      "cell_type": "markdown",
      "source": [
        "Padding and Truncating Reviews\n",
        "we choose a fixed size for the reviews and pad shorter reviews with zeros (or a special padding token) and truncate longer reviews."
      ],
      "metadata": {
        "id": "udMnKr2f2v4p"
      }
    },
    {
      "cell_type": "code",
      "source": [
        "from keras.preprocessing.sequence import pad_sequences\n",
        "\n",
        "MAX_LEN = 200\n",
        "\n",
        "df['padded_tokens'] = pad_sequences(df['indexed_tokens'], maxlen=MAX_LEN, padding='post', truncating='post').tolist()\n",
        "print(df['padded_tokens'][0])"
      ],
      "metadata": {
        "colab": {
          "base_uri": "https://localhost:8080/"
        },
        "id": "qVVBeljX1pzW",
        "outputId": "38f01d74-e542-4e8d-ec58-7f36efa0177f"
      },
      "execution_count": 126,
      "outputs": [
        {
          "output_type": "stream",
          "name": "stdout",
          "text": [
            "[1, 2, 3, 4, 5, 6, 7, 8, 9, 10, 11, 12, 13, 14, 15, 5, 16, 17, 18, 19, 20, 9, 21, 22, 23, 24, 25, 26, 27, 24, 28, 29, 30, 31, 32, 19, 33, 34, 35, 36, 37, 5, 38, 39, 40, 41, 42, 43, 44, 45, 46, 47, 48, 49, 50, 51, 52, 53, 54, 55, 56, 57, 58, 59, 60, 48, 61, 62, 63, 64, 65, 66, 67, 68, 69, 70, 71, 72, 73, 74, 75, 76, 77, 78, 79, 80, 81, 82, 83, 24, 84, 85, 86, 87, 88, 89, 90, 91, 92, 93, 94, 95, 90, 96, 90, 97, 98, 99, 100, 13, 6, 101, 102, 15, 103, 104, 105, 81, 106, 107, 108, 109, 5, 110, 111, 58, 112, 113, 19, 19, 114, 115, 116, 117, 118, 119, 120, 117, 121, 122, 123, 124, 125, 126, 127, 128, 120, 129, 51, 130, 84, 131, 132, 133, 51, 134, 4, 5, 135, 136, 137, 138, 139, 123, 140, 141, 142, 0, 0, 0, 0, 0, 0, 0, 0, 0, 0, 0, 0, 0, 0, 0, 0, 0, 0, 0, 0, 0, 0, 0, 0, 0, 0, 0, 0, 0, 0, 0, 0, 0]\n"
          ]
        }
      ]
    },
    {
      "cell_type": "markdown",
      "source": [
        "Splitting the dataset"
      ],
      "metadata": {
        "id": "h-guE9Vi4ORa"
      }
    },
    {
      "cell_type": "code",
      "source": [
        "from sklearn.model_selection import train_test_split\n",
        "\n",
        "train_data, test_data = train_test_split(df, test_size=0.2)\n",
        "print(train_data)\n",
        "print(test_data)"
      ],
      "metadata": {
        "colab": {
          "base_uri": "https://localhost:8080/"
        },
        "id": "YM3wjUVL3GaT",
        "outputId": "4f763dfa-db43-49d8-b55b-693ca7075cac"
      },
      "execution_count": 127,
      "outputs": [
        {
          "output_type": "stream",
          "name": "stdout",
          "text": [
            "                                                  review sentiment  \\\n",
            "4840   This is a film that everyone should watch. Qui...  positive   \n",
            "39219  An excellent cast who do their best with an aw...  negative   \n",
            "958    I had two reasons for watching this swashbuckl...  negative   \n",
            "44901  This movie is truly one of the worst pieces of...  negative   \n",
            "16249  I've loved this movie for a LONG time. I hadn'...  positive   \n",
            "...                                                  ...       ...   \n",
            "21213  This may not be the worst comedy of all time, ...  negative   \n",
            "37624  A remake can be successful. An adaptation can ...  negative   \n",
            "36842  There's something going on in this film direct...  negative   \n",
            "41882  This movie over does it on the cgi i mean sci-...  negative   \n",
            "49700  Okay, I'll admit the casting in the film is RE...  positive   \n",
            "\n",
            "                                          cleaned_review  label  \\\n",
            "4840   this is a film that everyone should watch quit...      1   \n",
            "39219  an excellent cast who do their best with an aw...      0   \n",
            "958    i had two reasons for watching this swashbuckl...      0   \n",
            "44901  this movie is truly one of the worst pieces of...      0   \n",
            "16249  ive loved this movie for a long time i hadnt s...      1   \n",
            "...                                                  ...    ...   \n",
            "21213  this may not be the worst comedy of all time b...      0   \n",
            "37624  a remake can be successful an adaptation can b...      0   \n",
            "36842  theres something going on in this film directe...      0   \n",
            "41882  this movie over does it on the cgi i mean scif...      0   \n",
            "49700  okay ill admit the casting in the film is real...      1   \n",
            "\n",
            "                                                  tokens  \\\n",
            "4840   [film, everyone, watch, quite, apart, raising,...   \n",
            "39219  [excellent, cast, best, awful, script, inept, ...   \n",
            "958    [two, reasons, watching, swashbuckler, aired, ...   \n",
            "44901  [movie, truly, one, worst, pieces, garbage, ev...   \n",
            "16249  [ive, loved, movie, long, time, hadnt, seen, c...   \n",
            "...                                                  ...   \n",
            "21213  [may, worst, comedy, time, close, producers, m...   \n",
            "37624  [remake, successful, adaptation, successful, i...   \n",
            "36842  [theres, something, going, film, directed, xfi...   \n",
            "41882  [movie, cgi, mean, scifi, really, original, ba...   \n",
            "49700  [okay, ill, admit, casting, film, really, stra...   \n",
            "\n",
            "                                          indexed_tokens  \\\n",
            "4840   [304, 3700, 333, 867, 1689, 27434, 3445, 3452,...   \n",
            "39219  [900, 406, 384, 556, 1038, 4768, 394, 565, 585...   \n",
            "958    [1604, 6757, 4, 20413, 515, 5801, 2223, 5902, ...   \n",
            "44901  [293, 167, 1, 565, 5127, 4966, 101, 185, 6017,...   \n",
            "16249  [259, 673, 293, 699, 216, 5486, 427, 11304, 73...   \n",
            "...                                                  ...   \n",
            "21213  [135, 565, 183, 216, 2038, 3685, 293, 9204, 25...   \n",
            "37624  [3523, 1855, 6403, 1855, 1190, 14123, 1839, 35...   \n",
            "36842  [283, 626, 302, 304, 1852, 33740, 22351, 1093,...   \n",
            "41882  [293, 5299, 4375, 5666, 185, 539, 24914, 627, ...   \n",
            "49700  [2322, 4563, 7472, 2391, 304, 185, 213806, 84,...   \n",
            "\n",
            "                                           padded_tokens  \n",
            "4840   [304, 3700, 333, 867, 1689, 27434, 3445, 3452,...  \n",
            "39219  [900, 406, 384, 556, 1038, 4768, 394, 565, 585...  \n",
            "958    [1604, 6757, 4, 20413, 515, 5801, 2223, 5902, ...  \n",
            "44901  [293, 167, 1, 565, 5127, 4966, 101, 185, 6017,...  \n",
            "16249  [259, 673, 293, 699, 216, 5486, 427, 11304, 73...  \n",
            "...                                                  ...  \n",
            "21213  [135, 565, 183, 216, 2038, 3685, 293, 9204, 25...  \n",
            "37624  [3523, 1855, 6403, 1855, 1190, 14123, 1839, 35...  \n",
            "36842  [283, 626, 302, 304, 1852, 33740, 22351, 1093,...  \n",
            "41882  [293, 5299, 4375, 5666, 185, 539, 24914, 627, ...  \n",
            "49700  [2322, 4563, 7472, 2391, 304, 185, 213806, 84,...  \n",
            "\n",
            "[40000 rows x 7 columns]\n",
            "                                                  review sentiment  \\\n",
            "24796  The Western can be divided into many sub-genre...  positive   \n",
            "47273  Released two years before I was born, this Osc...  positive   \n",
            "15457  This is a weak film with a troubled history of...  negative   \n",
            "20313  I really enjoyed this drama from Sidney Lumet....  positive   \n",
            "5608   This is a haunting, powerful Italian adaptatio...  positive   \n",
            "...                                                  ...       ...   \n",
            "14401  This is most likely the best picture not many ...  positive   \n",
            "36147  Detective Dave Robicheaux is trying to link th...  negative   \n",
            "38574  The songs are fantastic and the story-line is ...  positive   \n",
            "44835  There has been a political documentary, of rec...  positive   \n",
            "835    The story has been told before. A deadly disea...  positive   \n",
            "\n",
            "                                          cleaned_review  label  \\\n",
            "24796  the western can be divided into many subgenres...      1   \n",
            "47273  released two years before i was born this osca...      1   \n",
            "15457  this is a weak film with a troubled history of...      0   \n",
            "20313  i really enjoyed this drama from sidney lumet ...      1   \n",
            "5608   this is a haunting powerful italian adaptation...      1   \n",
            "...                                                  ...    ...   \n",
            "14401  this is most likely the best picture not many ...      1   \n",
            "36147  detective dave robicheaux is trying to link th...      0   \n",
            "38574  the songs are fantastic and the storyline is g...      1   \n",
            "44835  there has been a political documentary of rece...      1   \n",
            "835    the story has been told before a deadly diseas...      1   \n",
            "\n",
            "                                                  tokens  \\\n",
            "24796  [western, divided, many, subgenres, one, broad...   \n",
            "47273  [released, two, years, born, oscarwinning, mov...   \n",
            "15457  [weak, film, troubled, history, cuts, renaming...   \n",
            "20313  [really, enjoyed, drama, sidney, lumet, best, ...   \n",
            "5608   [haunting, powerful, italian, adaptation, jame...   \n",
            "...                                                  ...   \n",
            "14401  [likely, best, picture, many, see, presented, ...   \n",
            "36147  [detective, dave, robicheaux, trying, link, mu...   \n",
            "38574  [songs, fantastic, storyline, good, like, many...   \n",
            "44835  [political, documentary, recent, vintage, call...   \n",
            "835    [story, told, deadly, disease, spreading, arou...   \n",
            "\n",
            "                                          indexed_tokens  \\\n",
            "24796  [2989, 23652, 249, 52502, 1, 138656, 73526, 86...   \n",
            "47273  [3840, 1604, 257, 2634, 39503, 293, 21582, 129...   \n",
            "15457  [4326, 304, 1625, 5223, 2599, 33288, 98, 413, ...   \n",
            "20313  [185, 691, 308, 13891, 18490, 384, 21, 886, 40...   \n",
            "5608   [1639, 6680, 2140, 6403, 2399, 13187, 1799, 13...   \n",
            "...                                                  ...   \n",
            "14401  [6778, 384, 379, 249, 168, 1377, 15549, 313, 1...   \n",
            "36147  [1723, 15442, 57493, 806, 7867, 1806, 2475, 36...   \n",
            "38574  [1309, 832, 567, 393, 312, 249, 392, 11663, 12...   \n",
            "44835  [1440, 3162, 7315, 26763, 37, 931, 3987, 10239...   \n",
            "835    [417, 2048, 1972, 4251, 18989, 100, 5913, 304,...   \n",
            "\n",
            "                                           padded_tokens  \n",
            "24796  [2989, 23652, 249, 52502, 1, 138656, 73526, 86...  \n",
            "47273  [3840, 1604, 257, 2634, 39503, 293, 21582, 129...  \n",
            "15457  [4326, 304, 1625, 5223, 2599, 33288, 98, 413, ...  \n",
            "20313  [185, 691, 308, 13891, 18490, 384, 21, 886, 40...  \n",
            "5608   [1639, 6680, 2140, 6403, 2399, 13187, 1799, 13...  \n",
            "...                                                  ...  \n",
            "14401  [6778, 384, 379, 249, 168, 1377, 15549, 313, 1...  \n",
            "36147  [1723, 15442, 57493, 806, 7867, 1806, 2475, 36...  \n",
            "38574  [1309, 832, 567, 393, 312, 249, 392, 11663, 12...  \n",
            "44835  [1440, 3162, 7315, 26763, 37, 931, 3987, 10239...  \n",
            "835    [417, 2048, 1972, 4251, 18989, 100, 5913, 304,...  \n",
            "\n",
            "[10000 rows x 7 columns]\n"
          ]
        }
      ]
    },
    {
      "cell_type": "markdown",
      "source": [
        "Creating PyTorch DataLoader"
      ],
      "metadata": {
        "id": "yxUiptoI4uHi"
      }
    },
    {
      "cell_type": "code",
      "source": [
        "import torch\n",
        "from torch.utils.data import DataLoader, Dataset\n",
        "\n",
        "class IMDBDataset(Dataset):\n",
        "    def __init__(self, reviews, labels):\n",
        "        self.reviews = reviews\n",
        "        self.labels = labels\n",
        "\n",
        "    def __len__(self):\n",
        "        return len(self.reviews)\n",
        "\n",
        "    def __getitem__(self, idx):\n",
        "        return torch.tensor(self.reviews[idx], dtype=torch.long), torch.tensor(self.labels[idx], dtype=torch.float)\n"
      ],
      "metadata": {
        "id": "BPNqIgTB4so8"
      },
      "execution_count": 128,
      "outputs": []
    },
    {
      "cell_type": "markdown",
      "source": [
        "create datasets"
      ],
      "metadata": {
        "id": "zpqH0sPP46jQ"
      }
    },
    {
      "cell_type": "code",
      "source": [
        "train_dataset = IMDBDataset(train_data['padded_tokens'].tolist(), train_data['label'].tolist())\n",
        "test_dataset = IMDBDataset(test_data['padded_tokens'].tolist(), test_data['label'].tolist())"
      ],
      "metadata": {
        "id": "7BsT9vp846ZH"
      },
      "execution_count": 129,
      "outputs": []
    },
    {
      "cell_type": "markdown",
      "source": [
        "create dataloaders"
      ],
      "metadata": {
        "id": "tWUEk65849_I"
      }
    },
    {
      "cell_type": "code",
      "source": [
        "batch_size = 512\n",
        "train_loader = DataLoader(train_dataset, batch_size=batch_size, shuffle=True)\n",
        "test_loader = DataLoader(test_dataset, batch_size=batch_size, shuffle=False)"
      ],
      "metadata": {
        "id": "nWUzS7xl49wY"
      },
      "execution_count": 130,
      "outputs": []
    },
    {
      "cell_type": "markdown",
      "source": [
        "define the model"
      ],
      "metadata": {
        "id": "zI9HaIgD5tVe"
      }
    },
    {
      "cell_type": "code",
      "source": [
        "import torch\n",
        "import torch.nn as nn\n",
        "\n",
        "class LSTMDropout(nn.Module):\n",
        "    def __init__(self, vocab_size, embedding_dim, hidden_dim, output_dim=2, dropout=0.5):\n",
        "        super(LSTMDropout, self).__init__()\n",
        "\n",
        "        self.embedding = nn.Embedding(vocab_size, embedding_dim)\n",
        "\n",
        "        self.lstm = nn.LSTM(embedding_dim, hidden_dim, dropout=dropout)\n",
        "\n",
        "        self.dropout = nn.Dropout(dropout)\n",
        "\n",
        "        self.fc = nn.Linear(hidden_dim, output_dim)\n",
        "\n",
        "    def forward(self, x):\n",
        "        #Transposing x to have the correct shape [sequence_length, batch_size, features]\n",
        "        x = x.transpose(0, 1)\n",
        "\n",
        "        # Now the input to LSTM will be [sequence_length, batch_size, embedding_dim]\n",
        "        embedded = self.dropout(self.embedding(x))\n",
        "\n",
        "        # The LSTM output will now treat the first dimension as the sequence length\n",
        "        output, (hidden, cell) = self.lstm(embedded)\n",
        "\n",
        "        # Use the final hidden state for each batch element\n",
        "        # hidden[-1] should now correctly give you a tensor of shape [batch_size, hidden_dim]\n",
        "        hidden = hidden[-1]\n",
        "\n",
        "        out = self.fc(self.dropout(hidden))\n",
        "        return out.squeeze()\n",
        "\n",
        ""
      ],
      "metadata": {
        "id": "qwCclLkk5BTJ"
      },
      "execution_count": 131,
      "outputs": []
    },
    {
      "cell_type": "markdown",
      "source": [
        "defiune a train function and eval"
      ],
      "metadata": {
        "id": "M_zuyG5f57SQ"
      }
    },
    {
      "cell_type": "code",
      "source": [
        "import torch\n",
        "\n",
        "def calculate_accuracy(predictions, labels):\n",
        "    predicted_classes = torch.argmax(predictions, dim=1)\n",
        "\n",
        "    correct_predictions = (predicted_classes == labels).float()\n",
        "\n",
        "    accuracy = correct_predictions.sum() / len(labels)\n",
        "\n",
        "    return accuracy.item()\n",
        "\n",
        "def train(model, iterator, iterator_test, optimizer, criterion):\n",
        "    model.train()\n",
        "\n",
        "    epoch_loss = 0\n",
        "    epoch_acc = 0\n",
        "\n",
        "    for batch in iterator:\n",
        "        data, labels = batch\n",
        "        data, labels = data.to(device), labels.to(device).long()\n",
        "\n",
        "        optimizer.zero_grad()\n",
        "        predictions = model(data)\n",
        "\n",
        "        loss = criterion(predictions, labels)\n",
        "        acc = calculate_accuracy(predictions, labels)\n",
        "\n",
        "        loss.backward()\n",
        "        optimizer.step()\n",
        "\n",
        "        epoch_loss += loss.item()\n",
        "        epoch_acc += acc\n",
        "\n",
        "    train_loss = epoch_loss / len(iterator)\n",
        "    train_acc = epoch_acc / len(iterator)\n",
        "\n",
        "    valid_loss, valid_acc = evaluate(model, iterator_test, optimizer, criterion)\n",
        "\n",
        "    print(f'Train Loss: {train_loss:.3f}, Train Acc: {train_acc*100:.2f}%, Val. Loss: {valid_loss:.3f}, Val. Acc: {valid_acc*100:.2f}%')\n",
        "\n",
        "    return train_loss, train_acc, valid_loss, valid_acc\n",
        "\n",
        "def evaluate(model, iterator, optimizer, criterion):\n",
        "    model.eval()\n",
        "\n",
        "    with torch.no_grad():\n",
        "        epoch_loss = 0\n",
        "        epoch_acc = 0\n",
        "\n",
        "        for batch in iterator:\n",
        "            data, labels = batch\n",
        "            data, labels = data.to(device), labels.to(device).long()\n",
        "\n",
        "            predictions = model(data)\n",
        "            loss = criterion(predictions, labels)\n",
        "            acc = calculate_accuracy(predictions, labels)\n",
        "\n",
        "            epoch_loss += loss.item()\n",
        "            epoch_acc += acc\n",
        "\n",
        "    valid_loss = epoch_loss / len(iterator)\n",
        "    valid_acc = epoch_acc / len(iterator)\n",
        "\n",
        "    return valid_loss, valid_acc\n",
        "\n"
      ],
      "metadata": {
        "id": "sJIGYARN51u8"
      },
      "execution_count": 132,
      "outputs": []
    },
    {
      "cell_type": "markdown",
      "source": [
        "define a plot function"
      ],
      "metadata": {
        "id": "ONlUG7TW59bv"
      }
    },
    {
      "cell_type": "code",
      "source": [
        "import matplotlib.pyplot as plt\n",
        "\n",
        "def plot_results(train_losses, valid_losses):\n",
        "    plt.figure(figsize=(10, 6))\n",
        "    plt.plot(train_losses, label='Training Loss')\n",
        "    plt.plot(valid_losses, label='Validation Loss')\n",
        "    plt.title('Training and Validation Loss')\n",
        "    plt.xlabel('Epochs')\n",
        "    plt.ylabel('Loss')\n",
        "    plt.legend()\n",
        "    plt.show()\n",
        "\n",
        "def plot_accuracy(train_accs, valid_accs):\n",
        "    plt.figure(figsize=(10, 6))\n",
        "    plt.plot(train_accs, label='Training Accuracy')\n",
        "    plt.plot(valid_accs, label='Validation Accuracy')\n",
        "    plt.title('Training and Validation Accuracy')\n",
        "    plt.xlabel('Epochs')\n",
        "    plt.ylabel('Accuracy (%)')\n",
        "    plt.legend()\n",
        "    plt.grid(True)\n",
        "    plt.show()"
      ],
      "metadata": {
        "id": "rTEyIJ4q59NY"
      },
      "execution_count": 133,
      "outputs": []
    },
    {
      "cell_type": "markdown",
      "source": [
        "hyperparameters"
      ],
      "metadata": {
        "id": "ZONW52sq6iw0"
      }
    },
    {
      "cell_type": "code",
      "source": [
        "vocab_size = len(vocabulary) + 1  # +1 for the padding token\n",
        "embedding_dim = 200  # Size of the word embeddings\n",
        "hidden_dim = 348  # Size of the hidden states in the LSTM\n",
        "output_dim = 2  # Binary output (positive or negative)\n",
        "dropout = 0.13  # Dropout rate (for LSTMDropout model)\n",
        "\n",
        "# Other parameters\n",
        "learning_rate = 0.29055\n",
        "num_epochs = 50  # Number of training epochs\n",
        "weight_decay = 0.00012"
      ],
      "metadata": {
        "id": "D9Pl8Uqh6imD"
      },
      "execution_count": 148,
      "outputs": []
    },
    {
      "cell_type": "markdown",
      "source": [
        "init model"
      ],
      "metadata": {
        "id": "rbYBEjpC6pXN"
      }
    },
    {
      "cell_type": "code",
      "source": [
        "model = LSTMDropout(vocab_size, embedding_dim, hidden_dim, output_dim, dropout)\n",
        "model.to(device)"
      ],
      "metadata": {
        "colab": {
          "base_uri": "https://localhost:8080/"
        },
        "id": "E1l39YXP6lz-",
        "outputId": "400ab2a2-770d-4172-d393-d4127fbb473e"
      },
      "execution_count": 149,
      "outputs": [
        {
          "output_type": "execute_result",
          "data": {
            "text/plain": [
              "LSTMDropout(\n",
              "  (embedding): Embedding(214624, 200)\n",
              "  (lstm): LSTM(200, 348, dropout=0.13)\n",
              "  (dropout): Dropout(p=0.13, inplace=False)\n",
              "  (fc): Linear(in_features=348, out_features=2, bias=True)\n",
              ")"
            ]
          },
          "metadata": {},
          "execution_count": 149
        }
      ]
    },
    {
      "cell_type": "code",
      "source": [
        "import torch.optim as optim\n",
        "\n",
        "criterion = nn.CrossEntropyLoss()\n",
        "optimizer = optim.SGD(model.parameters(),lr=learning_rate,weight_decay=weight_decay,momentum=0.8795)"
      ],
      "metadata": {
        "id": "_n0YKtzR6mCq"
      },
      "execution_count": 150,
      "outputs": []
    },
    {
      "cell_type": "code",
      "source": [
        "# Training loop\n",
        "train_losses = []\n",
        "valid_losses = []\n",
        "train_accs = []\n",
        "valid_accs = []\n",
        "\n",
        "for epoch in range(num_epochs):\n",
        "    print(\"Epoch: \" + str(epoch))\n",
        "    train_loss, train_acc, valid_loss, valid_acc = train(model, train_loader, test_loader, optimizer, criterion)\n",
        "\n",
        "    train_losses.append(train_loss)\n",
        "    valid_losses.append(valid_loss)\n",
        "    train_accs.append(train_acc * 100)\n",
        "    valid_accs.append(valid_acc * 100)"
      ],
      "metadata": {
        "colab": {
          "base_uri": "https://localhost:8080/"
        },
        "id": "VNKr9Jhy7JYx",
        "outputId": "d7b5f154-a3ad-402d-ee06-8b06e481738b"
      },
      "execution_count": 151,
      "outputs": [
        {
          "output_type": "stream",
          "name": "stdout",
          "text": [
            "Epoch: 0\n",
            "Train Loss: 0.698, Train Acc: 50.25%, Val. Loss: 0.693, Val. Acc: 51.23%\n",
            "Epoch: 1\n",
            "Train Loss: 0.694, Train Acc: 50.70%, Val. Loss: 0.693, Val. Acc: 51.28%\n",
            "Epoch: 2\n",
            "Train Loss: 0.694, Train Acc: 50.90%, Val. Loss: 0.692, Val. Acc: 51.40%\n",
            "Epoch: 3\n",
            "Train Loss: 0.692, Train Acc: 50.64%, Val. Loss: 0.692, Val. Acc: 51.39%\n",
            "Epoch: 4\n",
            "Train Loss: 0.691, Train Acc: 51.11%, Val. Loss: 0.694, Val. Acc: 49.68%\n",
            "Epoch: 5\n",
            "Train Loss: 0.690, Train Acc: 51.69%, Val. Loss: 0.693, Val. Acc: 51.58%\n",
            "Epoch: 6\n",
            "Train Loss: 0.688, Train Acc: 51.66%, Val. Loss: 0.694, Val. Acc: 49.72%\n",
            "Epoch: 7\n",
            "Train Loss: 0.686, Train Acc: 51.98%, Val. Loss: 0.694, Val. Acc: 49.62%\n",
            "Epoch: 8\n",
            "Train Loss: 0.685, Train Acc: 51.56%, Val. Loss: 0.695, Val. Acc: 50.14%\n",
            "Epoch: 9\n",
            "Train Loss: 0.683, Train Acc: 51.76%, Val. Loss: 0.693, Val. Acc: 51.90%\n",
            "Epoch: 10\n",
            "Train Loss: 0.681, Train Acc: 52.92%, Val. Loss: 0.694, Val. Acc: 50.12%\n",
            "Epoch: 11\n",
            "Train Loss: 0.680, Train Acc: 52.50%, Val. Loss: 0.695, Val. Acc: 50.12%\n",
            "Epoch: 12\n",
            "Train Loss: 0.676, Train Acc: 53.02%, Val. Loss: 0.693, Val. Acc: 52.78%\n",
            "Epoch: 13\n",
            "Train Loss: 0.676, Train Acc: 52.98%, Val. Loss: 0.703, Val. Acc: 52.28%\n",
            "Epoch: 14\n",
            "Train Loss: 0.674, Train Acc: 52.87%, Val. Loss: 0.697, Val. Acc: 52.11%\n",
            "Epoch: 15\n",
            "Train Loss: 0.667, Train Acc: 53.61%, Val. Loss: 0.697, Val. Acc: 52.29%\n",
            "Epoch: 16\n",
            "Train Loss: 0.665, Train Acc: 53.41%, Val. Loss: 0.697, Val. Acc: 50.83%\n",
            "Epoch: 17\n",
            "Train Loss: 0.666, Train Acc: 54.19%, Val. Loss: 0.703, Val. Acc: 50.06%\n",
            "Epoch: 18\n",
            "Train Loss: 0.662, Train Acc: 54.13%, Val. Loss: 0.703, Val. Acc: 49.86%\n",
            "Epoch: 19\n",
            "Train Loss: 0.653, Train Acc: 56.25%, Val. Loss: 0.659, Val. Acc: 63.03%\n",
            "Epoch: 20\n",
            "Train Loss: 0.586, Train Acc: 68.95%, Val. Loss: 0.579, Val. Acc: 72.56%\n",
            "Epoch: 21\n",
            "Train Loss: 0.479, Train Acc: 77.80%, Val. Loss: 0.711, Val. Acc: 68.02%\n",
            "Epoch: 22\n",
            "Train Loss: 0.449, Train Acc: 79.24%, Val. Loss: 0.431, Val. Acc: 81.02%\n",
            "Epoch: 23\n",
            "Train Loss: 0.408, Train Acc: 82.14%, Val. Loss: 0.406, Val. Acc: 82.13%\n",
            "Epoch: 24\n",
            "Train Loss: 0.375, Train Acc: 83.84%, Val. Loss: 0.395, Val. Acc: 83.26%\n",
            "Epoch: 25\n",
            "Train Loss: 0.351, Train Acc: 84.98%, Val. Loss: 0.524, Val. Acc: 78.25%\n",
            "Epoch: 26\n",
            "Train Loss: 0.350, Train Acc: 85.28%, Val. Loss: 0.384, Val. Acc: 83.35%\n",
            "Epoch: 27\n",
            "Train Loss: 0.323, Train Acc: 86.56%, Val. Loss: 0.469, Val. Acc: 79.38%\n",
            "Epoch: 28\n",
            "Train Loss: 0.339, Train Acc: 85.68%, Val. Loss: 0.377, Val. Acc: 84.36%\n",
            "Epoch: 29\n",
            "Train Loss: 0.296, Train Acc: 87.81%, Val. Loss: 0.438, Val. Acc: 81.48%\n",
            "Epoch: 30\n",
            "Train Loss: 0.294, Train Acc: 87.84%, Val. Loss: 0.368, Val. Acc: 85.53%\n",
            "Epoch: 31\n",
            "Train Loss: 0.280, Train Acc: 88.61%, Val. Loss: 0.354, Val. Acc: 85.19%\n",
            "Epoch: 32\n",
            "Train Loss: 0.280, Train Acc: 88.64%, Val. Loss: 0.361, Val. Acc: 85.57%\n",
            "Epoch: 33\n",
            "Train Loss: 0.270, Train Acc: 88.91%, Val. Loss: 0.362, Val. Acc: 85.72%\n",
            "Epoch: 34\n",
            "Train Loss: 0.257, Train Acc: 89.57%, Val. Loss: 0.349, Val. Acc: 85.55%\n",
            "Epoch: 35\n",
            "Train Loss: 0.255, Train Acc: 89.64%, Val. Loss: 0.364, Val. Acc: 86.47%\n",
            "Epoch: 36\n",
            "Train Loss: 0.229, Train Acc: 90.92%, Val. Loss: 0.475, Val. Acc: 82.05%\n",
            "Epoch: 37\n",
            "Train Loss: 0.247, Train Acc: 89.97%, Val. Loss: 0.356, Val. Acc: 85.61%\n",
            "Epoch: 38\n",
            "Train Loss: 0.222, Train Acc: 91.28%, Val. Loss: 0.449, Val. Acc: 82.01%\n",
            "Epoch: 39\n",
            "Train Loss: 0.219, Train Acc: 91.26%, Val. Loss: 0.410, Val. Acc: 84.67%\n",
            "Epoch: 40\n",
            "Train Loss: 0.209, Train Acc: 91.71%, Val. Loss: 0.389, Val. Acc: 84.81%\n",
            "Epoch: 41\n",
            "Train Loss: 0.207, Train Acc: 91.87%, Val. Loss: 0.340, Val. Acc: 85.90%\n",
            "Epoch: 42\n",
            "Train Loss: 0.207, Train Acc: 91.94%, Val. Loss: 0.379, Val. Acc: 85.11%\n",
            "Epoch: 43\n",
            "Train Loss: 0.215, Train Acc: 91.68%, Val. Loss: 0.435, Val. Acc: 82.98%\n",
            "Epoch: 44\n",
            "Train Loss: 0.208, Train Acc: 91.92%, Val. Loss: 0.399, Val. Acc: 85.02%\n",
            "Epoch: 45\n",
            "Train Loss: 0.177, Train Acc: 93.30%, Val. Loss: 0.374, Val. Acc: 85.72%\n",
            "Epoch: 46\n",
            "Train Loss: 0.178, Train Acc: 93.26%, Val. Loss: 0.371, Val. Acc: 86.55%\n",
            "Epoch: 47\n",
            "Train Loss: 0.166, Train Acc: 93.72%, Val. Loss: 0.390, Val. Acc: 85.67%\n",
            "Epoch: 48\n",
            "Train Loss: 0.171, Train Acc: 93.36%, Val. Loss: 0.389, Val. Acc: 85.45%\n",
            "Epoch: 49\n",
            "Train Loss: 0.166, Train Acc: 93.70%, Val. Loss: 0.391, Val. Acc: 85.22%\n"
          ]
        }
      ]
    },
    {
      "cell_type": "code",
      "source": [
        "plot_results(train_losses, valid_losses)\n",
        "plot_accuracy(train_accs, valid_accs)"
      ],
      "metadata": {
        "colab": {
          "base_uri": "https://localhost:8080/",
          "height": 1000
        },
        "id": "760fCEZXYw6X",
        "outputId": "31da9470-a08d-4478-8060-0ae9e61266c2"
      },
      "execution_count": 152,
      "outputs": [
        {
          "output_type": "display_data",
          "data": {
            "text/plain": [
              "<Figure size 1000x600 with 1 Axes>"
            ],
            "image/png": "[encoded data removed]"
          },
          "metadata": {}
        },
        {
          "output_type": "display_data",
          "data": {
            "text/plain": [
              "<Figure size 1000x600 with 1 Axes>"
            ],
            "image/png": "[encoded data removed]"
          },
          "metadata": {}
        }
      ]
    },
    {
      "cell_type": "code",
      "source": [
        "from sklearn.metrics import confusion_matrix, classification_report\n",
        "import numpy as np\n",
        "\n",
        "def get_predictions(model, iterator):\n",
        "    model.eval()\n",
        "    all_preds = []\n",
        "    all_labels = []\n",
        "\n",
        "    with torch.no_grad():\n",
        "        for batch in iterator:\n",
        "            data, labels = batch\n",
        "            data, labels = data.to(device), labels.to(device)\n",
        "            predictions = model(data)\n",
        "            predicted_classes = torch.argmax(predictions, dim=1)\n",
        "\n",
        "            all_preds.extend(predicted_classes.cpu().numpy())\n",
        "            all_labels.extend(labels.cpu().numpy())\n",
        "\n",
        "    return np.array(all_preds), np.array(all_labels)\n",
        "\n",
        "# Get predictions and labels\n",
        "predictions, labels = get_predictions(model, test_loader)\n"
      ],
      "metadata": {
        "id": "HLqb23L-ZLlm"
      },
      "execution_count": 155,
      "outputs": []
    },
    {
      "cell_type": "code",
      "source": [
        "report = classification_report(labels, predictions, target_names=['Negative', 'Positive'])\n",
        "print(\"Classification Report:\\n\", report)"
      ],
      "metadata": {
        "colab": {
          "base_uri": "https://localhost:8080/"
        },
        "id": "YOwblF-pZNhq",
        "outputId": "2fa99b9b-5948-47c1-df34-c3df36003367"
      },
      "execution_count": 156,
      "outputs": [
        {
          "output_type": "stream",
          "name": "stdout",
          "text": [
            "Classification Report:\n",
            "               precision    recall  f1-score   support\n",
            "\n",
            "    Negative       0.92      0.78      0.84      5057\n",
            "    Positive       0.80      0.93      0.86      4943\n",
            "\n",
            "    accuracy                           0.85     10000\n",
            "   macro avg       0.86      0.85      0.85     10000\n",
            "weighted avg       0.86      0.85      0.85     10000\n",
            "\n"
          ]
        }
      ]
    },
    {
      "cell_type": "code",
      "source": [
        "import seaborn as sns\n",
        "\n",
        "def plot_confusion_matrix(conf_mat):\n",
        "    plt.figure(figsize=(8, 6))\n",
        "    sns.heatmap(conf_mat, annot=True, fmt='d', cmap='Blues',\n",
        "                xticklabels=['Negative', 'Positive'],\n",
        "                yticklabels=['Negative', 'Positive'])\n",
        "    plt.title('Confusion Matrix')\n",
        "    plt.ylabel('True Label')\n",
        "    plt.xlabel('Predicted Label')\n",
        "    plt.show()\n",
        "\n",
        "# Assuming you already have conf_mat from the previous steps\n",
        "plot_confusion_matrix(conf_mat)"
      ],
      "metadata": {
        "colab": {
          "base_uri": "https://localhost:8080/",
          "height": 564
        },
        "id": "qmQtiX25Y_AL",
        "outputId": "8d8dfae3-c21d-4eeb-dabf-4b82ac73f896"
      },
      "execution_count": 157,
      "outputs": [
        {
          "output_type": "display_data",
          "data": {
            "text/plain": [
              "<Figure size 800x600 with 2 Axes>"
            ],
            "image/png": "[encoded data removed]"
          },
          "metadata": {}
        }
      ]
    },
    {
      "cell_type": "markdown",
      "source": [
        "se stabilizeaza la epoca 30, 0.3 lr, 0.0001 wd, 0.9 momentum, 50 de epoci, overfitting\n",
        "\n",
        "30 de epoci e destul"
      ],
      "metadata": {
        "id": "FSE2vbQLX3VB"
      }
    }
  ]
}